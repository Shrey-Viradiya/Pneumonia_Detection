{
  "nbformat": 4,
  "nbformat_minor": 0,
  "metadata": {
    "accelerator": "GPU",
    "colab": {
      "name": "Training_Corona.ipynb",
      "provenance": [],
      "collapsed_sections": []
    },
    "kernelspec": {
      "display_name": "Python 3",
      "name": "python3"
    }
  },
  "cells": [
    {
      "cell_type": "code",
      "metadata": {
        "id": "6OA-fA4SFZ3Z"
      },
      "source": [
        "!nvidia-smi"
      ],
      "execution_count": null,
      "outputs": []
    },
    {
      "cell_type": "code",
      "metadata": {
        "id": "LleC1KN_jC9k"
      },
      "source": [
        "kaggle_username = \"\" ### Your kaggle Username\n",
        "kaggle_api_key  = \"\" ### Your kaggle API key"
      ],
      "execution_count": null,
      "outputs": []
    },
    {
      "cell_type": "code",
      "metadata": {
        "id": "Vvy87F5Ci9Df"
      },
      "source": [
        "with open(\"./kaggle.json\", \"w\") as f:\n",
        "    f.write(\"{\\\"username\\\": \\\"%s\\\", \" % kaggle_username)\n",
        "    f.write(\"\\\"key\\\": \\\"%s\\\"}\" % kaggle_api_key)"
      ],
      "execution_count": null,
      "outputs": []
    },
    {
      "cell_type": "code",
      "metadata": {
        "id": "DtNK0eyeZLEK"
      },
      "source": [
        "!source ./scripts/colab.sh"
      ],
      "execution_count": null,
      "outputs": []
    },
    {
      "cell_type": "code",
      "metadata": {
        "id": "IRCB1XF4a0NR"
      },
      "source": [
        ""
      ],
      "execution_count": null,
      "outputs": []
    }
  ]
}
